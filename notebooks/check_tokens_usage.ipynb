{
 "cells": [
  {
   "cell_type": "code",
   "execution_count": 8,
   "id": "b6f3acb8",
   "metadata": {},
   "outputs": [],
   "source": [
    "import openai\n",
    "import time \n",
    "import tiktoken\n",
    "from dotenv import dotenv_values\n",
    "start_time = time.time()\n",
    "\n",
    "\n",
    "env_vars = dotenv_values()\n",
    "openai.api_key = env_vars['OPEN_AI_KEY_ID']\n",
    "\n",
    "def num_tokens_from_messages(messages, model=\"gpt-3.5-turbo\"):\n",
    "    \"\"\"Returns the number of tokens used by a list of messages.\"\"\"\n",
    "    try:\n",
    "      encoding = tiktoken.encoding_for_model(model)\n",
    "    except KeyError:\n",
    "      encoding = tiktoken.get_encoding(\"cl100k_base\")\n",
    "    if model == \"gpt-3.5-turbo\":  # note: future models may deviate from this\n",
    "      num_tokens = 0\n",
    "      for message in messages:\n",
    "          num_tokens += 4  # every message follows <im_start>{role/name}\\n{content}<im_end>\\n\n",
    "          for key, value in message.items():\n",
    "              num_tokens += len(encoding.encode(value))\n",
    "              if key == \"name\":  # if there's a name, the role is omitted\n",
    "                  num_tokens += -1  # role is always required and always 1 token\n",
    "      num_tokens += 2  # every reply is primed with <im_start>assistant\n",
    "      return num_tokens\n",
    "    else:\n",
    "      return -100\n",
    "\n"
   ]
  },
  {
   "cell_type": "code",
   "execution_count": 9,
   "id": "0dadb6f3",
   "metadata": {},
   "outputs": [],
   "source": [
    "def call(msg):\n",
    "    \n",
    "    # send a ChatCompletion request to count to 100\n",
    "    response = openai.ChatCompletion.create(\n",
    "        model='gpt-3.5-turbo',\n",
    "        messages=msg,\n",
    "        temperature=1,\n",
    "        stream=False # again, we set stream=True\n",
    "    )\n",
    "\n",
    "    respon = response['choices'][0]['message']['content']\n",
    "    usage = response['usage']\n",
    "    print(\"================================================\")\n",
    "    print(usage)\n",
    "    print(\"=================================================\")\n",
    "    print(\"=================================================\")\n",
    "    print(respon)\n",
    "    "
   ]
  },
  {
   "cell_type": "code",
   "execution_count": 10,
   "id": "20d715cf",
   "metadata": {},
   "outputs": [
    {
     "name": "stdout",
     "output_type": "stream",
     "text": [
      "======== Only doc tokens count===>  2115\n"
     ]
    }
   ],
   "source": [
    "#  Open the file in read mode\n",
    "with open(\"test.txt\", 'r') as file:\n",
    "    # Read the contents of the file\n",
    "    doc = file.read()\n",
    "    \n",
    "print(\"======== Only doc tokens count===> \",num_tokens_from_messages([{\"role\": \"user\", \"content\": doc}]))"
   ]
  },
  {
   "cell_type": "code",
   "execution_count": 11,
   "id": "b441e861",
   "metadata": {},
   "outputs": [
    {
     "name": "stdout",
     "output_type": "stream",
     "text": [
      "================================================\n",
      "{\n",
      "  \"completion_tokens\": 141,\n",
      "  \"prompt_tokens\": 2128,\n",
      "  \"total_tokens\": 2269\n",
      "}\n",
      "=================================================\n",
      "=================================================\n",
      "Ramazan Cinardere is a Senior IT Consultant with a Bachelor of Science in Computer Science from Frankfurt University of Applied Sciences. He is also a Managing Director at CTREAM. Ramazan has experience in designing and developing IoT infrastructure, managing insurance data, analyzing energy consumption, migrating monolithic applications to microservices, and implementing backends for Covid-19 registration and chatbots. He is skilled in various programming languages, frameworks, and databases. Ramazan has worked with clients such as Worldline GmbH, HanseMerkur, Vaillant Group GmbH, Deutsche Bahn AG, and the Federal Employment Agency. He is fluent in Turkish and has certifications in Angular7 and JavaScript development.\n"
     ]
    }
   ],
   "source": [
    "# call api\n",
    "ques=  \"write summary of this text in 5 lines\"\n",
    "msg= ques+ \"text:\"+doc \n",
    "msg = [{\"role\": \"user\", \"content\": msg}]\n",
    "call(msg)"
   ]
  },
  {
   "cell_type": "code",
   "execution_count": 12,
   "id": "2e6e62dc",
   "metadata": {},
   "outputs": [
    {
     "name": "stdout",
     "output_type": "stream",
     "text": [
      "================================================\n",
      "{\n",
      "  \"completion_tokens\": 99,\n",
      "  \"prompt_tokens\": 2128,\n",
      "  \"total_tokens\": 2227\n",
      "}\n",
      "=================================================\n",
      "=================================================\n",
      "Ramazan Cinardere, Senior IT Consultant and Managing Director at CTREAM. Bachelor of Science in Computer Science from Frankfurt University. Experienced in developing microservices, REST APIs, and cloud applications. Proficient in Java, TypeScript, SQL, and various frameworks and databases. Worked on projects for Worldline GmbH, HanseMerkur, Coneva GmbH, and Deutsche Bahn AG among others. Extensive knowledge in Scrum, DDD, BDD, and clean code.\n"
     ]
    }
   ],
   "source": [
    "# call api\n",
    "ques=  \"write summary of this text in 10 words\"\n",
    "msg= ques+ \"text:\"+doc \n",
    "msg = [{\"role\": \"user\", \"content\": msg}]\n",
    "call(msg)"
   ]
  },
  {
   "cell_type": "code",
   "execution_count": null,
   "id": "e52e4210",
   "metadata": {},
   "outputs": [],
   "source": []
  }
 ],
 "metadata": {
  "kernelspec": {
   "display_name": "Python 3 (ipykernel)",
   "language": "python",
   "name": "python3"
  },
  "language_info": {
   "codemirror_mode": {
    "name": "ipython",
    "version": 3
   },
   "file_extension": ".py",
   "mimetype": "text/x-python",
   "name": "python",
   "nbconvert_exporter": "python",
   "pygments_lexer": "ipython3",
   "version": "3.8.0"
  }
 },
 "nbformat": 4,
 "nbformat_minor": 5
}
